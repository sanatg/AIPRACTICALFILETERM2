{
 "cells": [
  {
   "cell_type": "markdown",
   "metadata": {},
   "source": [
    "to find maximum of two numbers in python."
   ]
  },
  {
   "cell_type": "code",
   "execution_count": 6,
   "metadata": {},
   "outputs": [
    {
     "name": "stdout",
     "output_type": "stream",
     "text": [
      "10 is bigger\n"
     ]
    }
   ],
   "source": [
    "num = int(input(\"enter a number: \"))\n",
    "num2 = int(input(\"enter another number: \"))\n",
    "\n",
    "if (num > num2):\n",
    "    print(\"{} is bigger\".format(num))\n",
    "elif (num < num2):\n",
    "    print(\"{} is bigger\".format(num2))\n",
    "elif (num == num2):\n",
    "    print(\"they are equal\")"
   ]
  },
  {
   "cell_type": "markdown",
   "metadata": {},
   "source": [
    "A 4-digit number is entered through keyboard. Write a program\n",
    "to print a new number with digits reversed as of original one.\n",
    "E.g.-\n",
    "INPUT: 1234 OUTPUT : 4321\n",
    "INPUT : 5982 OUTPUT : 2895"
   ]
  },
  {
   "cell_type": "code",
   "execution_count": 11,
   "metadata": {},
   "outputs": [
    {
     "name": "stdout",
     "output_type": "stream",
     "text": [
      "The reverse number is:  00000000000000000000000001\n"
     ]
    }
   ],
   "source": [
    "num = input(\"enter a number: \")\n",
    "print(\"The reverse number is: \",num[::-1])"
   ]
  },
  {
   "cell_type": "markdown",
   "metadata": {},
   "source": [
    "Calculate the cube of all numbers from 1 to a given number."
   ]
  },
  {
   "cell_type": "code",
   "execution_count": 6,
   "metadata": {},
   "outputs": [
    {
     "name": "stdout",
     "output_type": "stream",
     "text": [
      "Calculating the cube of number: 1\n",
      "The cube of the num is:  1\n",
      "Calculating the cube of number: 2\n",
      "The cube of the num is:  8\n",
      "Calculating the cube of number: 3\n",
      "The cube of the num is:  27\n",
      "Calculating the cube of number: 4\n",
      "The cube of the num is:  64\n",
      "Calculating the cube of number: 5\n",
      "The cube of the num is:  125\n",
      "Calculating the cube of number: 6\n",
      "The cube of the num is:  216\n",
      "Calculating the cube of number: 7\n",
      "The cube of the num is:  343\n",
      "Calculating the cube of number: 8\n",
      "The cube of the num is:  512\n",
      "Calculating the cube of number: 9\n",
      "The cube of the num is:  729\n"
     ]
    }
   ],
   "source": [
    "num = int(input(\"enter a number to calculate the cube: \"))\n",
    "\n",
    "for i in range(1,num):\n",
    "    print(\"Calculating the cube of number: {}\".format(i))\n",
    "    print(\"The cube of the num is: \",i**3) "
   ]
  },
  {
   "cell_type": "markdown",
   "metadata": {},
   "source": [
    "Write a program to calculate the sum of series up to n term. For\n",
    "\n",
    "example, if n=5 the series will become\n",
    "2+22+222+2222+22222=24690."
   ]
  },
  {
   "cell_type": "code",
   "execution_count": 8,
   "metadata": {},
   "outputs": [
    {
     "name": "stdout",
     "output_type": "stream",
     "text": [
      "2\n",
      "24\n",
      "246\n",
      "2468\n",
      "24690\n",
      "246912\n",
      "2469134\n",
      "24691356\n",
      "246913578\n",
      "2469135800\n"
     ]
    }
   ],
   "source": [
    "num = int(input(\"enter a number: \"))\n",
    "sum = 0\n",
    "str = \"0\"\n",
    "num2 = 1\n",
    "for i in range(num):\n",
    "    str = \"2\"*num2\n",
    "    to_add = int(str)\n",
    "    sum += to_add\n",
    "    print(sum)\n",
    "    num2 += 1"
   ]
  },
  {
   "cell_type": "markdown",
   "metadata": {},
   "source": [
    "WAP to find area and perimeter of a square. Get the input from the  user."
   ]
  },
  {
   "cell_type": "code",
   "execution_count": 9,
   "metadata": {},
   "outputs": [
    {
     "name": "stdout",
     "output_type": "stream",
     "text": [
      "The area of the square is:  10000\n",
      "The perimeter of the square is:  400\n"
     ]
    }
   ],
   "source": [
    "num = int(input(\"enter a number to calculate the area and the perimeter: \"))\n",
    "\n",
    "print(\"The area of the square is: \",num**2)\n",
    "print(\"The perimeter of the square is: \",4*num)"
   ]
  },
  {
   "cell_type": "markdown",
   "metadata": {},
   "source": [
    "WAP to accept a character from the user & display whether it is a  vowel or consonant."
   ]
  },
  {
   "cell_type": "code",
   "execution_count": 14,
   "metadata": {},
   "outputs": [
    {
     "name": "stdout",
     "output_type": "stream",
     "text": [
      "E is a vowel\n"
     ]
    }
   ],
   "source": [
    "# WAP to accept a character from the user & display whether it is a  vowel or consonant.\n",
    "letter = input(\"enter a letter: \")\n",
    "if (letter == \"a\" or letter == \"e\" or letter == \"i\" or letter == \"o\" or letter == \"u\"):\n",
    "    print(\"{} is a vowel\".format(letter))\n",
    "else:\n",
    "    print(\"{} is a consonant\".format(letter))"
   ]
  },
  {
   "cell_type": "markdown",
   "metadata": {},
   "source": [
    "WAP to print the following pattern: \n",
    "5 5 5 5 5 \n",
    "5 5 5 5 5 \n",
    "5 5 5 5 5 \n",
    "5 5 5 5 5\n"
   ]
  },
  {
   "cell_type": "code",
   "execution_count": 23,
   "metadata": {},
   "outputs": [
    {
     "name": "stdout",
     "output_type": "stream",
     "text": [
      "5 5 5 5 5 \n",
      "5 5 5 5 5 \n",
      "5 5 5 5 5 \n",
      "5 5 5 5 5 \n",
      "5 5 5 5 5 \n"
     ]
    }
   ],
   "source": [
    "for i in range(5):\n",
    "    for j in range(5):\n",
    "        print(\"5\", end=' ') \n",
    "    print() # new line"
   ]
  },
  {
   "cell_type": "markdown",
   "metadata": {},
   "source": [
    "to count the number of vowels in the string “pineapple”."
   ]
  },
  {
   "cell_type": "code",
   "execution_count": 47,
   "metadata": {},
   "outputs": [
    {
     "name": "stdout",
     "output_type": "stream",
     "text": [
      "Number of vowels are: 0\n"
     ]
    }
   ],
   "source": [
    "string = input(\"Enter string:\")\n",
    "vowels=0\n",
    "for i in string:\n",
    "      if(i=='a' or i=='e' or i=='i' or i=='o' or i=='u' or i=='A' or i=='E' or i=='I' or i=='O' or i=='U'):\n",
    "            vowels=vowels+1\n",
    "print(\"Number of vowels are:\",vowels)"
   ]
  },
  {
   "cell_type": "markdown",
   "metadata": {},
   "source": [
    "WAP to print table of a number in reverse order."
   ]
  },
  {
   "cell_type": "code",
   "execution_count": 57,
   "metadata": {},
   "outputs": [
    {
     "name": "stdout",
     "output_type": "stream",
     "text": [
      "7428573 × 10 = 74285730\n",
      "7428573 × 9 = 66857157\n",
      "7428573 × 8 = 59428584\n",
      "7428573 × 7 = 52000011\n",
      "7428573 × 6 = 44571438\n",
      "7428573 × 5 = 37142865\n",
      "7428573 × 4 = 29714292\n",
      "7428573 × 3 = 22285719\n",
      "7428573 × 2 = 14857146\n",
      "7428573 × 1 = 7428573\n"
     ]
    }
   ],
   "source": [
    "num = int(input(\"enter a number: \"))\n",
    "\n",
    "for i in reversed(range(10)):\n",
    "    print(\"{} × {} = {}\".format(num,i+1,num*(i+1)))"
   ]
  },
  {
   "cell_type": "markdown",
   "metadata": {},
   "source": [
    "MADE BY SANAT GUPTA\n",
    "\n",
    "CLASS:IX-F\n",
    "\n",
    "ROLL NO. : 39"
   ]
  }
 ],
 "metadata": {
  "interpreter": {
   "hash": "916dbcbb3f70747c44a77c7bcd40155683ae19c65e1c03b4aa3499c5328201f1"
  },
  "kernelspec": {
   "display_name": "Python 3.8.10 64-bit",
   "language": "python",
   "name": "python3"
  },
  "language_info": {
   "codemirror_mode": {
    "name": "ipython",
    "version": 3
   },
   "file_extension": ".py",
   "mimetype": "text/x-python",
   "name": "python",
   "nbconvert_exporter": "python",
   "pygments_lexer": "ipython3",
   "version": "3.8.10"
  },
  "orig_nbformat": 4
 },
 "nbformat": 4,
 "nbformat_minor": 2
}
